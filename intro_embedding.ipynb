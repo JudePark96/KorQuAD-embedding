{
 "cells": [
  {
   "cell_type": "code",
   "execution_count": 4,
   "metadata": {
    "pycharm": {
     "is_executing": false
    }
   },
   "outputs": [],
   "source": [
    "from gensim.models import FastText, Word2Vec"
   ]
  },
  {
   "cell_type": "markdown",
   "metadata": {
    "pycharm": {
     "name": "#%%\n"
    }
   },
   "source": [
    "## 소개\n",
    "\n",
    "이 노트북에서는 사전학습된 임베딩 모델을 로딩하고 비슷한 단어들을 추출해볼 것입니다."
   ]
  },
  {
   "cell_type": "code",
   "execution_count": 2,
   "metadata": {},
   "outputs": [],
   "source": [
    "# word2vec 경로를 설정합니다.\n",
    "word2vec_path = './rsc/model/word2vec-100d.model'"
   ]
  },
  {
   "cell_type": "code",
   "execution_count": 5,
   "metadata": {},
   "outputs": [],
   "source": [
    "# word2vec 모델을 불러옵니다.\n",
    "model = Word2Vec.load(word2vec_path)"
   ]
  },
  {
   "cell_type": "code",
   "execution_count": 8,
   "metadata": {},
   "outputs": [
    {
     "data": {
      "text/plain": [
       "[('최선', 0.7192587852478027),\n",
       " ('모색', 0.7169654369354248),\n",
       " ('포부', 0.7150318622589111),\n",
       " ('표명', 0.7092833518981934),\n",
       " ('다짐', 0.7040525674819946)]"
      ]
     },
     "execution_count": 8,
     "metadata": {},
     "output_type": "execute_result"
    }
   ],
   "source": [
    "model.wv.most_similar('희망', topn=5)"
   ]
  },
  {
   "cell_type": "code",
   "execution_count": 9,
   "metadata": {},
   "outputs": [
    {
     "data": {
      "text/plain": [
       "[('대학', 0.86847323179245),\n",
       " ('대학원', 0.8267880082130432),\n",
       " ('의과', 0.7723007202148438),\n",
       " ('연세대', 0.7711100578308105),\n",
       " ('건국대', 0.7692356109619141)]"
      ]
     },
     "execution_count": 9,
     "metadata": {},
     "output_type": "execute_result"
    }
   ],
   "source": [
    "model.wv.most_similar('대학교', topn=5)"
   ]
  },
  {
   "cell_type": "code",
   "execution_count": 10,
   "metadata": {},
   "outputs": [
    {
     "data": {
      "text/plain": [
       "[('스마트폰', 0.8554092049598694),\n",
       " ('텔레콤', 0.8194915056228638),\n",
       " ('옴니아', 0.8098882436752319),\n",
       " ('KT', 0.7780239582061768),\n",
       " ('소비자', 0.7639140486717224)]"
      ]
     },
     "execution_count": 10,
     "metadata": {},
     "output_type": "execute_result"
    }
   ],
   "source": [
    "model.wv.most_similar('아이폰', topn=5)"
   ]
  },
  {
   "cell_type": "code",
   "execution_count": null,
   "metadata": {},
   "outputs": [],
   "source": []
  }
 ],
 "metadata": {
  "kernelspec": {
   "display_name": "Python 3",
   "language": "python",
   "name": "python3"
  },
  "language_info": {
   "codemirror_mode": {
    "name": "ipython",
    "version": 3
   },
   "file_extension": ".py",
   "mimetype": "text/x-python",
   "name": "python",
   "nbconvert_exporter": "python",
   "pygments_lexer": "ipython3",
   "version": "3.7.6"
  },
  "pycharm": {
   "stem_cell": {
    "cell_type": "raw",
    "metadata": {
     "collapsed": false
    },
    "source": []
   }
  }
 },
 "nbformat": 4,
 "nbformat_minor": 1
}
