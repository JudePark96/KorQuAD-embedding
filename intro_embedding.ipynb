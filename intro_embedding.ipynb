{
 "cells": [
  {
   "cell_type": "code",
   "execution_count": 2,
   "metadata": {
    "ExecuteTime": {
     "end_time": "2020-03-01T14:00:07.428292Z",
     "start_time": "2020-03-01T14:00:07.132552Z"
    },
    "pycharm": {
     "is_executing": false
    }
   },
   "outputs": [],
   "source": [
    "from gensim.models import FastText, Word2Vec"
   ]
  },
  {
   "cell_type": "markdown",
   "metadata": {
    "pycharm": {
     "name": "#%%\n"
    }
   },
   "source": [
    "## 소개\n",
    "\n",
    "이 노트북에서는 사전학습된 임베딩 모델을 로딩하고 비슷한 단어들을 추출해볼 것입니다."
   ]
  },
  {
   "cell_type": "code",
   "execution_count": 2,
   "metadata": {
    "ExecuteTime": {
     "end_time": "2020-02-29T15:42:21.154154Z",
     "start_time": "2020-02-29T15:42:21.151521Z"
    }
   },
   "outputs": [],
   "source": [
    "# word2vec 경로를 설정합니다.\n",
    "word2vec_path = './rsc/model/word2vec-100d.model'"
   ]
  },
  {
   "cell_type": "code",
   "execution_count": 11,
   "metadata": {
    "ExecuteTime": {
     "end_time": "2020-02-29T15:43:41.139736Z",
     "start_time": "2020-02-29T15:43:40.961955Z"
    }
   },
   "outputs": [],
   "source": [
    "# word2vec 모델을 불러옵니다.\n",
    "model = Word2Vec.load(word2vec_path)"
   ]
  },
  {
   "cell_type": "code",
   "execution_count": 24,
   "metadata": {
    "ExecuteTime": {
     "end_time": "2020-02-29T16:52:17.574062Z",
     "start_time": "2020-02-29T16:52:17.567787Z"
    }
   },
   "outputs": [
    {
     "data": {
      "text/plain": [
       "[('피력', 0.6893101930618286),\n",
       " ('포부', 0.6844146251678467),\n",
       " ('착실', 0.6551424264907837),\n",
       " ('열망', 0.6550745368003845),\n",
       " ('앞장서', 0.6507490873336792)]"
      ]
     },
     "execution_count": 24,
     "metadata": {},
     "output_type": "execute_result"
    }
   ],
   "source": [
    "model.wv.most_similar('희망', topn=5)"
   ]
  },
  {
   "cell_type": "code",
   "execution_count": 25,
   "metadata": {
    "ExecuteTime": {
     "end_time": "2020-02-29T16:52:24.476129Z",
     "start_time": "2020-02-29T16:52:24.470087Z"
    }
   },
   "outputs": [
    {
     "data": {
      "text/plain": [
       "[('민국', 0.7337946891784668),\n",
       " ('한국', 0.7161893844604492),\n",
       " ('대한국', 0.7160536646842957),\n",
       " ('중화민국', 0.670883059501648),\n",
       " ('일본', 0.6394616365432739)]"
      ]
     },
     "execution_count": 25,
     "metadata": {},
     "output_type": "execute_result"
    }
   ],
   "source": [
    "model.wv.most_similar('대한민국', topn=5)"
   ]
  },
  {
   "cell_type": "code",
   "execution_count": 13,
   "metadata": {
    "ExecuteTime": {
     "end_time": "2020-02-29T15:43:42.510126Z",
     "start_time": "2020-02-29T15:43:42.504028Z"
    }
   },
   "outputs": [
    {
     "data": {
      "text/plain": [
       "[('대학', 0.86847323179245),\n",
       " ('대학원', 0.8267880082130432),\n",
       " ('의과', 0.7723008394241333),\n",
       " ('연세대', 0.7711100578308105),\n",
       " ('건국대', 0.7692356109619141)]"
      ]
     },
     "execution_count": 13,
     "metadata": {},
     "output_type": "execute_result"
    }
   ],
   "source": [
    "model.wv.most_similar('대학교', topn=5)"
   ]
  },
  {
   "cell_type": "code",
   "execution_count": 14,
   "metadata": {
    "ExecuteTime": {
     "end_time": "2020-02-29T15:43:44.078181Z",
     "start_time": "2020-02-29T15:43:44.071820Z"
    }
   },
   "outputs": [
    {
     "data": {
      "text/plain": [
       "[('스마트폰', 0.8554092049598694),\n",
       " ('텔레콤', 0.8194913864135742),\n",
       " ('옴니아', 0.8098881840705872),\n",
       " ('KT', 0.778023898601532),\n",
       " ('소비자', 0.7639139890670776)]"
      ]
     },
     "execution_count": 14,
     "metadata": {},
     "output_type": "execute_result"
    }
   ],
   "source": [
    "model.wv.most_similar('아이폰', topn=5)"
   ]
  },
  {
   "cell_type": "code",
   "execution_count": 15,
   "metadata": {
    "ExecuteTime": {
     "end_time": "2020-02-29T15:43:49.095991Z",
     "start_time": "2020-02-29T15:43:49.021786Z"
    }
   },
   "outputs": [
    {
     "ename": "KeyError",
     "evalue": "\"word '하였다' not in vocabulary\"",
     "output_type": "error",
     "traceback": [
      "\u001b[0;31m---------------------------------------------------------------------------\u001b[0m",
      "\u001b[0;31mKeyError\u001b[0m                                  Traceback (most recent call last)",
      "\u001b[0;32m<ipython-input-15-ab63670861c1>\u001b[0m in \u001b[0;36m<module>\u001b[0;34m\u001b[0m\n\u001b[0;32m----> 1\u001b[0;31m \u001b[0mmodel\u001b[0m\u001b[0;34m.\u001b[0m\u001b[0mwv\u001b[0m\u001b[0;34m.\u001b[0m\u001b[0mmost_similar\u001b[0m\u001b[0;34m(\u001b[0m\u001b[0;34m'하였다'\u001b[0m\u001b[0;34m,\u001b[0m \u001b[0mtopn\u001b[0m\u001b[0;34m=\u001b[0m\u001b[0;36m5\u001b[0m\u001b[0;34m)\u001b[0m\u001b[0;34m\u001b[0m\u001b[0;34m\u001b[0m\u001b[0m\n\u001b[0m",
      "\u001b[0;32m/opt/conda/lib/python3.7/site-packages/gensim/models/keyedvectors.py\u001b[0m in \u001b[0;36mmost_similar\u001b[0;34m(self, positive, negative, topn, restrict_vocab, indexer)\u001b[0m\n\u001b[1;32m    551\u001b[0m                 \u001b[0mmean\u001b[0m\u001b[0;34m.\u001b[0m\u001b[0mappend\u001b[0m\u001b[0;34m(\u001b[0m\u001b[0mweight\u001b[0m \u001b[0;34m*\u001b[0m \u001b[0mword\u001b[0m\u001b[0;34m)\u001b[0m\u001b[0;34m\u001b[0m\u001b[0;34m\u001b[0m\u001b[0m\n\u001b[1;32m    552\u001b[0m             \u001b[0;32melse\u001b[0m\u001b[0;34m:\u001b[0m\u001b[0;34m\u001b[0m\u001b[0;34m\u001b[0m\u001b[0m\n\u001b[0;32m--> 553\u001b[0;31m                 \u001b[0mmean\u001b[0m\u001b[0;34m.\u001b[0m\u001b[0mappend\u001b[0m\u001b[0;34m(\u001b[0m\u001b[0mweight\u001b[0m \u001b[0;34m*\u001b[0m \u001b[0mself\u001b[0m\u001b[0;34m.\u001b[0m\u001b[0mword_vec\u001b[0m\u001b[0;34m(\u001b[0m\u001b[0mword\u001b[0m\u001b[0;34m,\u001b[0m \u001b[0muse_norm\u001b[0m\u001b[0;34m=\u001b[0m\u001b[0;32mTrue\u001b[0m\u001b[0;34m)\u001b[0m\u001b[0;34m)\u001b[0m\u001b[0;34m\u001b[0m\u001b[0;34m\u001b[0m\u001b[0m\n\u001b[0m\u001b[1;32m    554\u001b[0m                 \u001b[0;32mif\u001b[0m \u001b[0mword\u001b[0m \u001b[0;32min\u001b[0m \u001b[0mself\u001b[0m\u001b[0;34m.\u001b[0m\u001b[0mvocab\u001b[0m\u001b[0;34m:\u001b[0m\u001b[0;34m\u001b[0m\u001b[0;34m\u001b[0m\u001b[0m\n\u001b[1;32m    555\u001b[0m                     \u001b[0mall_words\u001b[0m\u001b[0;34m.\u001b[0m\u001b[0madd\u001b[0m\u001b[0;34m(\u001b[0m\u001b[0mself\u001b[0m\u001b[0;34m.\u001b[0m\u001b[0mvocab\u001b[0m\u001b[0;34m[\u001b[0m\u001b[0mword\u001b[0m\u001b[0;34m]\u001b[0m\u001b[0;34m.\u001b[0m\u001b[0mindex\u001b[0m\u001b[0;34m)\u001b[0m\u001b[0;34m\u001b[0m\u001b[0;34m\u001b[0m\u001b[0m\n",
      "\u001b[0;32m/opt/conda/lib/python3.7/site-packages/gensim/models/keyedvectors.py\u001b[0m in \u001b[0;36mword_vec\u001b[0;34m(self, word, use_norm)\u001b[0m\n\u001b[1;32m    466\u001b[0m             \u001b[0;32mreturn\u001b[0m \u001b[0mresult\u001b[0m\u001b[0;34m\u001b[0m\u001b[0;34m\u001b[0m\u001b[0m\n\u001b[1;32m    467\u001b[0m         \u001b[0;32melse\u001b[0m\u001b[0;34m:\u001b[0m\u001b[0;34m\u001b[0m\u001b[0;34m\u001b[0m\u001b[0m\n\u001b[0;32m--> 468\u001b[0;31m             \u001b[0;32mraise\u001b[0m \u001b[0mKeyError\u001b[0m\u001b[0;34m(\u001b[0m\u001b[0;34m\"word '%s' not in vocabulary\"\u001b[0m \u001b[0;34m%\u001b[0m \u001b[0mword\u001b[0m\u001b[0;34m)\u001b[0m\u001b[0;34m\u001b[0m\u001b[0;34m\u001b[0m\u001b[0m\n\u001b[0m\u001b[1;32m    469\u001b[0m \u001b[0;34m\u001b[0m\u001b[0m\n\u001b[1;32m    470\u001b[0m     \u001b[0;32mdef\u001b[0m \u001b[0mget_vector\u001b[0m\u001b[0;34m(\u001b[0m\u001b[0mself\u001b[0m\u001b[0;34m,\u001b[0m \u001b[0mword\u001b[0m\u001b[0;34m)\u001b[0m\u001b[0;34m:\u001b[0m\u001b[0;34m\u001b[0m\u001b[0;34m\u001b[0m\u001b[0m\n",
      "\u001b[0;31mKeyError\u001b[0m: \"word '하였다' not in vocabulary\""
     ]
    }
   ],
   "source": [
    "model.wv.most_similar('하였다', topn=5)"
   ]
  },
  {
   "cell_type": "code",
   "execution_count": 16,
   "metadata": {
    "ExecuteTime": {
     "end_time": "2020-02-29T15:43:53.236461Z",
     "start_time": "2020-02-29T15:43:53.233796Z"
    }
   },
   "outputs": [],
   "source": [
    "fasttext_path = './rsc/model/fasttext-100d.model'"
   ]
  },
  {
   "cell_type": "code",
   "execution_count": 17,
   "metadata": {
    "ExecuteTime": {
     "end_time": "2020-02-29T15:43:54.179317Z",
     "start_time": "2020-02-29T15:43:53.604506Z"
    }
   },
   "outputs": [],
   "source": [
    "model = FastText.load(fasttext_path)"
   ]
  },
  {
   "cell_type": "code",
   "execution_count": 19,
   "metadata": {
    "ExecuteTime": {
     "end_time": "2020-02-29T15:43:59.094059Z",
     "start_time": "2020-02-29T15:43:59.087687Z"
    }
   },
   "outputs": [
    {
     "data": {
      "text/plain": [
       "[('피력', 0.6893101930618286),\n",
       " ('포부', 0.6844146251678467),\n",
       " ('착실', 0.6551424264907837),\n",
       " ('열망', 0.6550745368003845),\n",
       " ('앞장서', 0.6507490873336792)]"
      ]
     },
     "execution_count": 19,
     "metadata": {},
     "output_type": "execute_result"
    }
   ],
   "source": [
    "model.wv.most_similar('희망', topn=5)"
   ]
  },
  {
   "cell_type": "code",
   "execution_count": 21,
   "metadata": {
    "ExecuteTime": {
     "end_time": "2020-02-29T15:44:06.631679Z",
     "start_time": "2020-02-29T15:44:06.625377Z"
    }
   },
   "outputs": [
    {
     "data": {
      "text/plain": [
       "[('대학원', 0.8371132016181946),\n",
       " ('대학', 0.834043025970459),\n",
       " ('신학교', 0.8284860849380493),\n",
       " ('의학교', 0.8190054893493652),\n",
       " ('의과', 0.782858669757843)]"
      ]
     },
     "execution_count": 21,
     "metadata": {},
     "output_type": "execute_result"
    }
   ],
   "source": [
    "model.wv.most_similar('대학교', topn=5)"
   ]
  },
  {
   "cell_type": "code",
   "execution_count": 22,
   "metadata": {
    "ExecuteTime": {
     "end_time": "2020-02-29T15:44:11.540999Z",
     "start_time": "2020-02-29T15:44:11.534776Z"
    }
   },
   "outputs": [
    {
     "data": {
      "text/plain": [
       "[('스마트폰', 0.8538354635238647),\n",
       " ('텔레콤', 0.7928858995437622),\n",
       " ('KT', 0.771552562713623),\n",
       " ('삼성전자', 0.7668639421463013),\n",
       " ('SK', 0.7659730315208435)]"
      ]
     },
     "execution_count": 22,
     "metadata": {},
     "output_type": "execute_result"
    }
   ],
   "source": [
    "model.wv.most_similar('아이폰', topn=5)"
   ]
  },
  {
   "cell_type": "code",
   "execution_count": 23,
   "metadata": {
    "ExecuteTime": {
     "end_time": "2020-02-29T15:44:12.433830Z",
     "start_time": "2020-02-29T15:44:12.427450Z"
    }
   },
   "outputs": [
    {
     "data": {
      "text/plain": [
       "[('날', 0.2706696391105652),\n",
       " ('순간', 0.254644513130188),\n",
       " ('잉태', 0.25440239906311035),\n",
       " ('..', 0.24458885192871094),\n",
       " ('마지막', 0.23766472935676575)]"
      ]
     },
     "execution_count": 23,
     "metadata": {},
     "output_type": "execute_result"
    }
   ],
   "source": [
    "model.wv.most_similar('하였다', topn=5)"
   ]
  },
  {
   "cell_type": "markdown",
   "metadata": {},
   "source": [
    "# 위키피디아 Word2Vec"
   ]
  },
  {
   "cell_type": "code",
   "execution_count": 3,
   "metadata": {
    "ExecuteTime": {
     "end_time": "2020-03-01T14:00:11.924122Z",
     "start_time": "2020-03-01T14:00:10.526494Z"
    }
   },
   "outputs": [],
   "source": [
    "wiki_model_path = './rsc/model/wiki-word2vec-100d.model'\n",
    "wiki_model = Word2Vec.load(wiki_model_path)"
   ]
  },
  {
   "cell_type": "code",
   "execution_count": 4,
   "metadata": {
    "ExecuteTime": {
     "end_time": "2020-03-01T14:00:20.167884Z",
     "start_time": "2020-03-01T14:00:20.042717Z"
    }
   },
   "outputs": [
    {
     "data": {
      "text/plain": [
       "[('소망', 0.7688028812408447),\n",
       " ('행복', 0.7523059844970703),\n",
       " ('희망찬', 0.7511520385742188),\n",
       " ('꿈', 0.734944224357605),\n",
       " ('땀방울', 0.7177977561950684)]"
      ]
     },
     "execution_count": 4,
     "metadata": {},
     "output_type": "execute_result"
    }
   ],
   "source": [
    "wiki_model.wv.most_similar('희망', topn=5)"
   ]
  },
  {
   "cell_type": "code",
   "execution_count": 5,
   "metadata": {
    "ExecuteTime": {
     "end_time": "2020-03-01T14:00:50.610695Z",
     "start_time": "2020-03-01T14:00:50.503413Z"
    }
   },
   "outputs": [
    {
     "data": {
      "text/plain": [
       "[('개신교도', 0.6401444673538208),\n",
       " ('특별시', 0.6383377313613892),\n",
       " ('월남자', 0.6298344135284424),\n",
       " ('한국', 0.6286424398422241),\n",
       " ('한국대학농구연맹', 0.6185964345932007)]"
      ]
     },
     "execution_count": 5,
     "metadata": {},
     "output_type": "execute_result"
    }
   ],
   "source": [
    "wiki_model.wv.most_similar('대한민국', topn=5)"
   ]
  },
  {
   "cell_type": "code",
   "execution_count": 6,
   "metadata": {
    "ExecuteTime": {
     "end_time": "2020-03-01T14:00:58.391949Z",
     "start_time": "2020-03-01T14:00:58.285626Z"
    }
   },
   "outputs": [
    {
     "data": {
      "text/plain": [
       "[('대학원', 0.891532838344574),\n",
       " ('대학', 0.8425295948982239),\n",
       " ('교수', 0.8161196708679199),\n",
       " ('공과', 0.8153384327888489),\n",
       " ('학사', 0.8001226186752319)]"
      ]
     },
     "execution_count": 6,
     "metadata": {},
     "output_type": "execute_result"
    }
   ],
   "source": [
    "wiki_model.wv.most_similar('대학교', topn=5)"
   ]
  },
  {
   "cell_type": "code",
   "execution_count": 7,
   "metadata": {
    "ExecuteTime": {
     "end_time": "2020-03-01T14:01:04.430428Z",
     "start_time": "2020-03-01T14:01:04.335126Z"
    }
   },
   "outputs": [
    {
     "data": {
      "text/plain": [
       "[('아이패드', 0.8743065595626831),\n",
       " ('안드로이드', 0.8523899912834167),\n",
       " ('태블릿', 0.836433470249176),\n",
       " ('스마트폰', 0.8361740708351135),\n",
       " ('iPhone', 0.8242295384407043)]"
      ]
     },
     "execution_count": 7,
     "metadata": {},
     "output_type": "execute_result"
    }
   ],
   "source": [
    "wiki_model.wv.most_similar('아이폰', topn=5)"
   ]
  },
  {
   "cell_type": "code",
   "execution_count": 8,
   "metadata": {
    "ExecuteTime": {
     "end_time": "2020-03-01T14:01:10.251136Z",
     "start_time": "2020-03-01T14:01:10.157390Z"
    }
   },
   "outputs": [
    {
     "data": {
      "text/plain": [
       "[('버락', 0.7971678376197815),\n",
       " ('도널드', 0.7867832779884338),\n",
       " ('루즈벨트', 0.7590467929840088),\n",
       " ('루스벨트', 0.7573376893997192),\n",
       " ('바이든', 0.7533344030380249)]"
      ]
     },
     "execution_count": 8,
     "metadata": {},
     "output_type": "execute_result"
    }
   ],
   "source": [
    "wiki_model.wv.most_similar('트럼프', topn=5)"
   ]
  },
  {
   "cell_type": "code",
   "execution_count": 9,
   "metadata": {
    "ExecuteTime": {
     "end_time": "2020-03-01T14:01:12.516360Z",
     "start_time": "2020-03-01T14:01:12.415029Z"
    }
   },
   "outputs": [
    {
     "data": {
      "text/plain": [
       "[('EXiV', 0.7548800706863403),\n",
       " ('nCoV', 0.6694616675376892),\n",
       " ('출혈열', 0.6604378819465637),\n",
       " ('SARS', 0.6583402156829834),\n",
       " ('CoV', 0.6508616209030151)]"
      ]
     },
     "execution_count": 9,
     "metadata": {},
     "output_type": "execute_result"
    }
   ],
   "source": [
    "wiki_model.wv.most_similar('코로나', topn=5)"
   ]
  },
  {
   "cell_type": "code",
   "execution_count": 11,
   "metadata": {
    "ExecuteTime": {
     "end_time": "2020-03-01T14:02:19.860698Z",
     "start_time": "2020-03-01T14:02:19.841703Z"
    }
   },
   "outputs": [
    {
     "ename": "KeyError",
     "evalue": "\"word '하였다' not in vocabulary\"",
     "output_type": "error",
     "traceback": [
      "\u001b[0;31m---------------------------------------------------------------------------\u001b[0m",
      "\u001b[0;31mKeyError\u001b[0m                                  Traceback (most recent call last)",
      "\u001b[0;32m<ipython-input-11-a8af574e8923>\u001b[0m in \u001b[0;36m<module>\u001b[0;34m\u001b[0m\n\u001b[1;32m      1\u001b[0m \u001b[0;31m# MeCab 에서 하였다는 ['하', '였', '다'] 로 각각의 다른 어절로 인식한다.\u001b[0m\u001b[0;34m\u001b[0m\u001b[0;34m\u001b[0m\u001b[0;34m\u001b[0m\u001b[0m\n\u001b[1;32m      2\u001b[0m \u001b[0;31m# 그렇기 때문에 '하였다' 라는 단어가 사전에 없는 것이다.\u001b[0m\u001b[0;34m\u001b[0m\u001b[0;34m\u001b[0m\u001b[0;34m\u001b[0m\u001b[0m\n\u001b[0;32m----> 3\u001b[0;31m \u001b[0mwiki_model\u001b[0m\u001b[0;34m.\u001b[0m\u001b[0mwv\u001b[0m\u001b[0;34m.\u001b[0m\u001b[0mmost_similar\u001b[0m\u001b[0;34m(\u001b[0m\u001b[0;34m'하였다'\u001b[0m\u001b[0;34m,\u001b[0m \u001b[0mtopn\u001b[0m\u001b[0;34m=\u001b[0m\u001b[0;36m5\u001b[0m\u001b[0;34m)\u001b[0m\u001b[0;34m\u001b[0m\u001b[0;34m\u001b[0m\u001b[0m\n\u001b[0m",
      "\u001b[0;32m/opt/conda/lib/python3.7/site-packages/gensim/models/keyedvectors.py\u001b[0m in \u001b[0;36mmost_similar\u001b[0;34m(self, positive, negative, topn, restrict_vocab, indexer)\u001b[0m\n\u001b[1;32m    551\u001b[0m                 \u001b[0mmean\u001b[0m\u001b[0;34m.\u001b[0m\u001b[0mappend\u001b[0m\u001b[0;34m(\u001b[0m\u001b[0mweight\u001b[0m \u001b[0;34m*\u001b[0m \u001b[0mword\u001b[0m\u001b[0;34m)\u001b[0m\u001b[0;34m\u001b[0m\u001b[0;34m\u001b[0m\u001b[0m\n\u001b[1;32m    552\u001b[0m             \u001b[0;32melse\u001b[0m\u001b[0;34m:\u001b[0m\u001b[0;34m\u001b[0m\u001b[0;34m\u001b[0m\u001b[0m\n\u001b[0;32m--> 553\u001b[0;31m                 \u001b[0mmean\u001b[0m\u001b[0;34m.\u001b[0m\u001b[0mappend\u001b[0m\u001b[0;34m(\u001b[0m\u001b[0mweight\u001b[0m \u001b[0;34m*\u001b[0m \u001b[0mself\u001b[0m\u001b[0;34m.\u001b[0m\u001b[0mword_vec\u001b[0m\u001b[0;34m(\u001b[0m\u001b[0mword\u001b[0m\u001b[0;34m,\u001b[0m \u001b[0muse_norm\u001b[0m\u001b[0;34m=\u001b[0m\u001b[0;32mTrue\u001b[0m\u001b[0;34m)\u001b[0m\u001b[0;34m)\u001b[0m\u001b[0;34m\u001b[0m\u001b[0;34m\u001b[0m\u001b[0m\n\u001b[0m\u001b[1;32m    554\u001b[0m                 \u001b[0;32mif\u001b[0m \u001b[0mword\u001b[0m \u001b[0;32min\u001b[0m \u001b[0mself\u001b[0m\u001b[0;34m.\u001b[0m\u001b[0mvocab\u001b[0m\u001b[0;34m:\u001b[0m\u001b[0;34m\u001b[0m\u001b[0;34m\u001b[0m\u001b[0m\n\u001b[1;32m    555\u001b[0m                     \u001b[0mall_words\u001b[0m\u001b[0;34m.\u001b[0m\u001b[0madd\u001b[0m\u001b[0;34m(\u001b[0m\u001b[0mself\u001b[0m\u001b[0;34m.\u001b[0m\u001b[0mvocab\u001b[0m\u001b[0;34m[\u001b[0m\u001b[0mword\u001b[0m\u001b[0;34m]\u001b[0m\u001b[0;34m.\u001b[0m\u001b[0mindex\u001b[0m\u001b[0;34m)\u001b[0m\u001b[0;34m\u001b[0m\u001b[0;34m\u001b[0m\u001b[0m\n",
      "\u001b[0;32m/opt/conda/lib/python3.7/site-packages/gensim/models/keyedvectors.py\u001b[0m in \u001b[0;36mword_vec\u001b[0;34m(self, word, use_norm)\u001b[0m\n\u001b[1;32m    466\u001b[0m             \u001b[0;32mreturn\u001b[0m \u001b[0mresult\u001b[0m\u001b[0;34m\u001b[0m\u001b[0;34m\u001b[0m\u001b[0m\n\u001b[1;32m    467\u001b[0m         \u001b[0;32melse\u001b[0m\u001b[0;34m:\u001b[0m\u001b[0;34m\u001b[0m\u001b[0;34m\u001b[0m\u001b[0m\n\u001b[0;32m--> 468\u001b[0;31m             \u001b[0;32mraise\u001b[0m \u001b[0mKeyError\u001b[0m\u001b[0;34m(\u001b[0m\u001b[0;34m\"word '%s' not in vocabulary\"\u001b[0m \u001b[0;34m%\u001b[0m \u001b[0mword\u001b[0m\u001b[0;34m)\u001b[0m\u001b[0;34m\u001b[0m\u001b[0;34m\u001b[0m\u001b[0m\n\u001b[0m\u001b[1;32m    469\u001b[0m \u001b[0;34m\u001b[0m\u001b[0m\n\u001b[1;32m    470\u001b[0m     \u001b[0;32mdef\u001b[0m \u001b[0mget_vector\u001b[0m\u001b[0;34m(\u001b[0m\u001b[0mself\u001b[0m\u001b[0;34m,\u001b[0m \u001b[0mword\u001b[0m\u001b[0;34m)\u001b[0m\u001b[0;34m:\u001b[0m\u001b[0;34m\u001b[0m\u001b[0;34m\u001b[0m\u001b[0m\n",
      "\u001b[0;31mKeyError\u001b[0m: \"word '하였다' not in vocabulary\""
     ]
    }
   ],
   "source": [
    "# MeCab 에서 하였다는 ['하', '였', '다'] 로 각각의 다른 어절로 인식한다.\n",
    "# 그렇기 때문에 '하였다' 라는 단어가 사전에 없는 것이다.\n",
    "wiki_model.wv.most_similar('하였다', topn=5)"
   ]
  },
  {
   "cell_type": "code",
   "execution_count": 12,
   "metadata": {
    "ExecuteTime": {
     "end_time": "2020-03-01T14:19:32.574466Z",
     "start_time": "2020-03-01T14:19:31.190772Z"
    }
   },
   "outputs": [],
   "source": [
    "wiki_model_200d_path = './rsc/model/wiki-word2vec-200d.model'\n",
    "wiki_model_200d = Word2Vec.load(wiki_model_200d_path)"
   ]
  },
  {
   "cell_type": "code",
   "execution_count": 16,
   "metadata": {
    "ExecuteTime": {
     "end_time": "2020-03-01T14:20:13.936874Z",
     "start_time": "2020-03-01T14:20:12.505195Z"
    }
   },
   "outputs": [
    {
     "data": {
      "text/plain": [
       "[('소망', 0.6473941206932068),\n",
       " ('행복', 0.6448792219161987),\n",
       " ('희망찬', 0.6371992230415344),\n",
       " ('꿈', 0.632573664188385),\n",
       " ('나눠요', 0.5970708131790161)]"
      ]
     },
     "execution_count": 16,
     "metadata": {},
     "output_type": "execute_result"
    }
   ],
   "source": [
    "wiki_model_200d.wv.most_similar('희망', topn=5)"
   ]
  },
  {
   "cell_type": "code",
   "execution_count": 17,
   "metadata": {
    "ExecuteTime": {
     "end_time": "2020-03-01T14:20:16.602888Z",
     "start_time": "2020-03-01T14:20:16.430099Z"
    }
   },
   "outputs": [
    {
     "data": {
      "text/plain": [
       "[('대학원', 0.815829873085022),\n",
       " ('대학', 0.7858517169952393),\n",
       " ('교수', 0.7306650876998901),\n",
       " ('경영학', 0.7272491455078125),\n",
       " ('학사', 0.71547931432724)]"
      ]
     },
     "execution_count": 17,
     "metadata": {},
     "output_type": "execute_result"
    }
   ],
   "source": [
    "wiki_model_200d.wv.most_similar('대학교', topn=5)"
   ]
  },
  {
   "cell_type": "code",
   "execution_count": 18,
   "metadata": {
    "ExecuteTime": {
     "end_time": "2020-03-01T14:20:18.037073Z",
     "start_time": "2020-03-01T14:20:17.829320Z"
    }
   },
   "outputs": [
    {
     "data": {
      "text/plain": [
       "[('아이패드', 0.8106507062911987),\n",
       " ('iPhone', 0.7684001922607422),\n",
       " ('스마트폰', 0.7524954080581665),\n",
       " ('애플', 0.7404242753982544),\n",
       " ('안드로이드', 0.7322123646736145)]"
      ]
     },
     "execution_count": 18,
     "metadata": {},
     "output_type": "execute_result"
    }
   ],
   "source": [
    "wiki_model_200d.wv.most_similar('아이폰', topn=5)"
   ]
  },
  {
   "cell_type": "code",
   "execution_count": 20,
   "metadata": {
    "ExecuteTime": {
     "end_time": "2020-03-01T14:20:29.203229Z",
     "start_time": "2020-03-01T14:20:28.989168Z"
    }
   },
   "outputs": [
    {
     "data": {
      "text/plain": [
       "[('도널드', 0.7087748050689697),\n",
       " ('버락', 0.6901220083236694),\n",
       " ('클린턴', 0.6622521281242371),\n",
       " ('Trump', 0.6572531461715698),\n",
       " ('바이든', 0.6528565883636475)]"
      ]
     },
     "execution_count": 20,
     "metadata": {},
     "output_type": "execute_result"
    }
   ],
   "source": [
    "wiki_model_200d.wv.most_similar('트럼프', topn=5)"
   ]
  },
  {
   "cell_type": "code",
   "execution_count": 21,
   "metadata": {
    "ExecuteTime": {
     "end_time": "2020-03-01T14:20:35.816333Z",
     "start_time": "2020-03-01T14:20:35.630618Z"
    }
   },
   "outputs": [
    {
     "data": {
      "text/plain": [
       "[('EXiV', 0.6712260842323303),\n",
       " ('nCoV', 0.6087026596069336),\n",
       " ('CoV', 0.5952572226524353),\n",
       " ('SARS', 0.5768648386001587),\n",
       " ('MERS', 0.5686876773834229)]"
      ]
     },
     "execution_count": 21,
     "metadata": {},
     "output_type": "execute_result"
    }
   ],
   "source": [
    "wiki_model_200d.wv.most_similar('코로나', topn=5)"
   ]
  },
  {
   "cell_type": "code",
   "execution_count": 25,
   "metadata": {
    "ExecuteTime": {
     "end_time": "2020-03-01T14:20:54.221696Z",
     "start_time": "2020-03-01T14:20:54.027464Z"
    }
   },
   "outputs": [
    {
     "data": {
      "text/plain": [
       "[('감염', 0.7811826467514038),\n",
       " ('병원체', 0.7451128363609314),\n",
       " ('인플루엔자', 0.7323987483978271),\n",
       " ('광견병', 0.7284733653068542),\n",
       " ('출혈열', 0.7260057926177979)]"
      ]
     },
     "execution_count": 25,
     "metadata": {},
     "output_type": "execute_result"
    }
   ],
   "source": [
    "wiki_model_200d.wv.most_similar('바이러스', topn=5)"
   ]
  },
  {
   "cell_type": "code",
   "execution_count": null,
   "metadata": {},
   "outputs": [],
   "source": []
  }
 ],
 "metadata": {
  "kernelspec": {
   "display_name": "Python 3",
   "language": "python",
   "name": "python3"
  },
  "language_info": {
   "codemirror_mode": {
    "name": "ipython",
    "version": 3
   },
   "file_extension": ".py",
   "mimetype": "text/x-python",
   "name": "python",
   "nbconvert_exporter": "python",
   "pygments_lexer": "ipython3",
   "version": "3.7.6"
  },
  "pycharm": {
   "stem_cell": {
    "cell_type": "raw",
    "metadata": {
     "collapsed": false
    },
    "source": []
   }
  },
  "toc": {
   "base_numbering": 1,
   "nav_menu": {},
   "number_sections": false,
   "sideBar": true,
   "skip_h1_title": false,
   "title_cell": "Table of Contents",
   "title_sidebar": "Contents",
   "toc_cell": false,
   "toc_position": {},
   "toc_section_display": true,
   "toc_window_display": false
  }
 },
 "nbformat": 4,
 "nbformat_minor": 1
}
